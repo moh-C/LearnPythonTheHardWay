{
 "cells": [
  {
   "cell_type": "code",
   "execution_count": 12,
   "metadata": {},
   "outputs": [
    {
     "name": "stdout",
     "output_type": "stream",
     "text": [
      "my age is: 21\n",
      "my age is: 'im fine'\n",
      "my age is: 21\n"
     ]
    }
   ],
   "source": [
    "age = 21\n",
    "fine = \"im fine\"\n",
    "print(\"my age is: %d\" %(age))\n",
    "print(\"my age is: %r\" %(fine))\n",
    "print(\"my age is: {}\".format(age))"
   ]
  },
  {
   "cell_type": "markdown",
   "metadata": {},
   "source": [
    "## All python string formattings:\n",
    "https://docs.python.org/3/tutorial/inputoutput.html#fancier-output-formatting"
   ]
  },
  {
   "cell_type": "markdown",
   "metadata": {},
   "source": [
    "# Python Escape Sequences\n",
    "http://python-ds.com/python-3-escape-sequences"
   ]
  },
  {
   "cell_type": "code",
   "execution_count": null,
   "metadata": {},
   "outputs": [],
   "source": [
    "print(\"how are you?\")"
   ]
  }
 ],
 "metadata": {
  "kernelspec": {
   "display_name": "Python 3",
   "language": "python",
   "name": "python3"
  },
  "language_info": {
   "codemirror_mode": {
    "name": "ipython",
    "version": 3
   },
   "file_extension": ".py",
   "mimetype": "text/x-python",
   "name": "python",
   "nbconvert_exporter": "python",
   "pygments_lexer": "ipython3",
   "version": "3.7.3"
  }
 },
 "nbformat": 4,
 "nbformat_minor": 2
}
